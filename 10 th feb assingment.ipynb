{
 "cells": [
  {
   "cell_type": "code",
   "execution_count": 1,
   "id": "6a14eb61-6e6e-4a5e-a519-a0e66604fc8d",
   "metadata": {},
   "outputs": [],
   "source": [
    "# ANSWER 1)\n",
    "    \n",
    "# The 'open()' function is used to open a file.\n",
    "# The 'open()' function takes two arguments: the file name (which can include the file path) and the mode in which the file is to be opened (e.g., read-only, write-only, or read-write).\n",
    "\n",
    "# In Python, there are several modes in which you can open a file. The mode determines what operations can be performed on the file. Here are the most common modes:\n",
    "\n",
    "# 1) 'r': read-only mode. The file can be read but not modified.\n",
    "\n",
    "# 2) 'w': write-only mode. If the file exists, it will be truncated (i.e., all existing data will be deleted) and opened for writing. \n",
    "#      If the file does not exist, a new file will be created.\n",
    "\n",
    "# 3) 'a': append mode. If the file exists, new data will be written to the end of the file. If the file does not exist, a new file will be created.\n",
    "\n",
    "# 4) 'x': exclusive creation mode. If the file does not exist, a new file will be created. If the file exists, a FileExistsError will be raised.\n",
    "\n",
    "# 5) 'b': binary mode. This mode should be used when working with non-text files, such as images or audio files.\n",
    "\n",
    "# 6) 't': text mode. This mode is used by default and should be used when working with text files."
   ]
  },
  {
   "cell_type": "code",
   "execution_count": 2,
   "id": "497a35ca-087e-4f5a-a6b4-dcfbe37872d7",
   "metadata": {},
   "outputs": [],
   "source": [
    "#ANSWER 2)\n",
    "\n",
    "# In Python, the close() function is used to close an open file. \n",
    "# It's important to close a file after you've finished working with it because:\n",
    "\n",
    "# 1) It saves any changes you made to the file. When you open a file in write mode or append mode, any changes you make to the file are not actually saved until you close the file. If you don't close the file, the changes may be lost.\n",
    "\n",
    "# 2) It releases system resources. When you open a file, the operating system assigns resources to it, such as memory and CPU time. If you don't close the file, these resources may be tied up and unavailable to other parts of your program or other programs running on your computer.\n",
    "\n",
    "# 3) It prevents data corruption. If you have multiple programs or threads accessing the same file simultaneously, it's possible for data corruption to occur if the file is not closed properly."
   ]
  },
  {
   "cell_type": "code",
   "execution_count": 8,
   "id": "93b4b1c0-9735-4025-8055-0df58c08af67",
   "metadata": {},
   "outputs": [],
   "source": [
    "# ANSWER 3)\n",
    "f = open(\"harshit.txt\",'w')"
   ]
  },
  {
   "cell_type": "code",
   "execution_count": 9,
   "id": "8f213056-5a83-499e-8103-2e5cfa3c6b9d",
   "metadata": {},
   "outputs": [
    {
     "data": {
      "text/plain": [
       "31"
      ]
     },
     "execution_count": 9,
     "metadata": {},
     "output_type": "execute_result"
    }
   ],
   "source": [
    "f.write(\"I want to become Data Scientist\")"
   ]
  },
  {
   "cell_type": "code",
   "execution_count": 10,
   "id": "5a284cc1-6cff-4101-8941-f3c11164224b",
   "metadata": {},
   "outputs": [],
   "source": [
    "f.close()"
   ]
  },
  {
   "cell_type": "code",
   "execution_count": 11,
   "id": "fa23c5ec-7b78-48fa-8d33-83e155faaf07",
   "metadata": {},
   "outputs": [],
   "source": [
    "f = open(\"harshit.txt\",'r')"
   ]
  },
  {
   "cell_type": "code",
   "execution_count": 12,
   "id": "f048b540-935b-4ab0-946e-cd65dcc5f3f1",
   "metadata": {},
   "outputs": [
    {
     "data": {
      "text/plain": [
       "'I want to become Data Scientist'"
      ]
     },
     "execution_count": 12,
     "metadata": {},
     "output_type": "execute_result"
    }
   ],
   "source": [
    "f.read()"
   ]
  },
  {
   "cell_type": "code",
   "execution_count": 13,
   "id": "40a1fdbb-315c-4ea7-9e55-dbac8c935305",
   "metadata": {},
   "outputs": [],
   "source": [
    "# ANSWER 4)\n",
    "\n",
    "# In Python, there are several methods you can use to read data from a file. Here's an explanation of the read(), readline(), and readlines() methods, along with code examples:\n",
    "\n",
    "#1) 'read()' : This method is used to read the entire contents of a file as a string. When you call read(), it reads the entire contents of the file and returns them as a single string.\n",
    "\n",
    "#2) 'readline()' : This method is used to read a single line of a file. When you call readline(), it reads the next line of the file and returns it as a string. \n",
    "\n",
    "#3) 'readlines()' : This method is used to read all the lines of a file and return them as a list of strings. When you call readlines(), it reads all the lines of the file and returns them as a list of strings. "
   ]
  },
  {
   "cell_type": "code",
   "execution_count": 14,
   "id": "7ffd2123-e540-4f61-beb6-11a912dcadaa",
   "metadata": {},
   "outputs": [],
   "source": [
    "# ANSWER 5) \n",
    "\n",
    "# In Python, the with statement is used in conjunction with the open() function to open a file and automatically close it when you're done working with it. \n",
    "\n",
    "\n",
    "# The advantage of using with statement and open() function together is that it ensures that the file is always properly closed, even if an exception is raised or an error occurs. \n",
    "# If you don't use with statement and open() function together,\n",
    "# you need to remember to manually close the file after you're done working with it, \n",
    "# which can be easy to forget and can lead to issues such as data corruption or resource allocation problems.\n",
    "# Additionally, the with statement and open() function together make your code more concise and easier to read. \n",
    "# You don't need to worry about closing the file,\n",
    "# so you can focus on the operations you want to perform on the file."
   ]
  },
  {
   "cell_type": "code",
   "execution_count": 4,
   "id": "3d56d06d-0217-4978-ba25-cb514b3a448c",
   "metadata": {},
   "outputs": [],
   "source": [
    "# ANSWER 6)\n",
    "\n",
    "# In Python, the 'write()' and 'writelines()' functions are used to write data to a file. \n",
    "# The 'write()' function writes a single string to the file, \n",
    "# while 'writelines()' writes a list of strings to the file.\n",
    "\n",
    "# The write() function takes a single argument, \n",
    "# which is the string to be written to the file. \n",
    "# It returns the number of characters written to the file. \n",
    "# If the file does not exist, it will be created. \n",
    "# If it already exists, the contents of the file will be overwritten.\n",
    "\n",
    "# Here is an example of using the write() function:\n",
    "\n",
    "file = open(\"example.txt\", \"w\")\n",
    "\n",
    "# Write a string to the file\n",
    "file.write(\"Hello, world!\")\n",
    "\n",
    "# Close the file\n",
    "file.close()"
   ]
  },
  {
   "cell_type": "code",
   "execution_count": 5,
   "id": "937d47ac-3287-4ecc-9bf1-b1d63dc214e7",
   "metadata": {},
   "outputs": [],
   "source": [
    "# The 'writelines()' function takes a list of strings as its argument.  \n",
    "# It writes each string in the list to the file, one after the other. \n",
    "# It does not add any line breaks between the strings, so you may need to add them manually.\n",
    "\n",
    "# Here is an example of using the 'writelines()' function:\n",
    " \n",
    "# Open a file in write mode\n",
    "file = open(\"example1.txt\", \"w\")\n",
    "\n",
    "# Write a list of strings to the file\n",
    "lines = [\"Hello\", \"world\", \"!\", \"\\n\"]\n",
    "file.writelines(lines)\n",
    "\n",
    "# Close the file\n",
    "file.close()"
   ]
  },
  {
   "cell_type": "code",
   "execution_count": null,
   "id": "a549ccf7-0b40-467b-b37b-29c72d92c2bf",
   "metadata": {},
   "outputs": [],
   "source": []
  }
 ],
 "metadata": {
  "kernelspec": {
   "display_name": "Python 3 (ipykernel)",
   "language": "python",
   "name": "python3"
  },
  "language_info": {
   "codemirror_mode": {
    "name": "ipython",
    "version": 3
   },
   "file_extension": ".py",
   "mimetype": "text/x-python",
   "name": "python",
   "nbconvert_exporter": "python",
   "pygments_lexer": "ipython3",
   "version": "3.10.8"
  }
 },
 "nbformat": 4,
 "nbformat_minor": 5
}
