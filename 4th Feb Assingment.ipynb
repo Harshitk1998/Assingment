{
 "cells": [
  {
   "cell_type": "code",
   "execution_count": 65,
   "id": "1a497693-262e-41d0-81d1-eaa375d54390",
   "metadata": {},
   "outputs": [
    {
     "data": {
      "text/plain": [
       "[('Virat Kohli', 24936),\n",
       " ('Jack Kallis', 25534),\n",
       " ('Ricky Ponting', 27483),\n",
       " ('Sachin Tendulkar', 34357)]"
      ]
     },
     "execution_count": 65,
     "metadata": {},
     "output_type": "execute_result"
    }
   ],
   "source": [
    "# Answer 1)\n",
    "d = [('Sachin Tendulkar', 34357), ('Ricky Ponting', 27483), ('Jack Kallis', 25534), ('Virat Kohli', 24936)]\n",
    "sorted(d, key=lambda x: x[1] )"
   ]
  },
  {
   "cell_type": "code",
   "execution_count": null,
   "id": "7dafde5e-2562-424a-a297-adc82e75c11c",
   "metadata": {},
   "outputs": [
    {
     "data": {
      "text/plain": [
       "[1, 4, 9, 16, 25, 36, 49, 64, 81, 100]"
      ]
     },
     "execution_count": 1,
     "metadata": {},
     "output_type": "execute_result"
    }
   ],
   "source": [
    "# Answer 2)\n",
    "a = [1,2,3,4,5,6,7,8,9,10]\n",
    "list(map(lambda x: x**2 , a))"
   ]
  },
  {
   "cell_type": "code",
   "execution_count": 52,
   "id": "fdbe0b6c-49b7-4edc-bf23-5922017f8104",
   "metadata": {},
   "outputs": [
    {
     "data": {
      "text/plain": [
       "('1', '2', '3', '4', '5', '6', '7', '8', '9', '10')"
      ]
     },
     "execution_count": 52,
     "metadata": {},
     "output_type": "execute_result"
    }
   ],
   "source": [
    "# Answer 3)\n",
    "b = [1,2,3,4,5,6,7,8,9,10]\n",
    "tuple(map(lambda x: str(x), b))"
   ]
  },
  {
   "cell_type": "code",
   "execution_count": 45,
   "id": "e6fb6e17-5d51-4dd7-a36f-0857e4322e00",
   "metadata": {},
   "outputs": [],
   "source": [
    "from functools import reduce"
   ]
  },
  {
   "cell_type": "code",
   "execution_count": 46,
   "id": "91da7ae1-24ca-47bc-873d-43b55cf63996",
   "metadata": {},
   "outputs": [
    {
     "data": {
      "text/plain": [
       "15511210043330985984000000"
      ]
     },
     "execution_count": 46,
     "metadata": {},
     "output_type": "execute_result"
    }
   ],
   "source": [
    "# Answer 4)\n",
    "reduce(lambda x,y: x*y , range(1,26) )"
   ]
  },
  {
   "cell_type": "code",
   "execution_count": 55,
   "id": "4e0d4f0e-0f04-4235-9add-8a189b30821f",
   "metadata": {},
   "outputs": [
    {
     "data": {
      "text/plain": [
       "[6, 60, 90, 120]"
      ]
     },
     "execution_count": 55,
     "metadata": {},
     "output_type": "execute_result"
    }
   ],
   "source": [
    "# Answer 5)\n",
    "c = [2,3,6,9,27,60,90,120,55,46]\n",
    "list(filter(lambda x : x%2==0 and x%3==0 , c))"
   ]
  },
  {
   "cell_type": "code",
   "execution_count": 67,
   "id": "8fdd63e5-9c71-43da-91d5-1f40941b5112",
   "metadata": {},
   "outputs": [
    {
     "data": {
      "text/plain": [
       "['php', 'aba', 'radar', 'level']"
      ]
     },
     "execution_count": 67,
     "metadata": {},
     "output_type": "execute_result"
    }
   ],
   "source": [
    "# Answer 6)\n",
    "e = ['python','php','aba','radar','level']\n",
    "list(filter(lambda x: x==x[::-1] , e))"
   ]
  }
 ],
 "metadata": {
  "kernelspec": {
   "display_name": "Python 3 (ipykernel)",
   "language": "python",
   "name": "python3"
  },
  "language_info": {
   "codemirror_mode": {
    "name": "ipython",
    "version": 3
   },
   "file_extension": ".py",
   "mimetype": "text/x-python",
   "name": "python",
   "nbconvert_exporter": "python",
   "pygments_lexer": "ipython3",
   "version": "3.10.8"
  }
 },
 "nbformat": 4,
 "nbformat_minor": 5
}
