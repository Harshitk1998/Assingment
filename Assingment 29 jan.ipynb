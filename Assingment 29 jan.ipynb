{
 "cells": [
  {
   "cell_type": "code",
   "execution_count": null,
   "id": "8f7f18f2-1199-482b-965e-b094bedc3822",
   "metadata": {},
   "outputs": [],
   "source": [
    "1) Guido Van Rossum.\n",
    "\n",
    "2) Python is an interpreted programming language, supporting object-oriented, structured, and functional programming.\n",
    "\n",
    "3) Yes, Python is a case-sensitive language\n",
    "\n",
    "4) .py\n",
    "\n",
    "5) Python is an interpreted language.\n",
    "\n",
    "6) \n",
    "\n",
    "7) # character\n",
    "\n",
    "8) \n",
    "\n",
    "9) lambda\n",
    "\n",
    "10) preferred installer program.\n",
    "\n",
    "11) type() function\n",
    "    print() function\n",
    "    input() function\n",
    "    dir() function\n",
    "    \n",
    "12)  An identifier can have a maximum length of 79 characters in Python.\n",
    "\n",
    "13) Benifits of Python:\n",
    "    a) Become Data Science.\n",
    "    b) Scientific and Mathematical computing.\n",
    "    c) web development.\n",
    "    d) Basic Game Devlopment.\n",
    "    e) Security and penetration testing.\n",
    "    \n",
    "14) Python uses a portion of the memory for internal use and non-object memory.\n",
    "\n",
    "15) Install python...\n",
    "After this, install it on your PC. Look for the location where PYTHON has been installed on your PC using tge following command on your command prompt: cmd python.\n",
    "Then go to advanced system settings and add new variable and name it as PYTHON_NAME and paste the copied path.\n",
    "Then look for the path variable, select it's value and select edit\n",
    "Add a semicolon towards the end of the value if it's not present and then type %PYTHON_HOME%\n",
    "\n",
    "16) Indentation refers to the spaces at the beginning of a code line. Where in other programming languages the indentation in code is for readability only, the indentation in Python is very important. Python uses indentation to indicate a block of code."
   ]
  },
  {
   "cell_type": "code",
   "execution_count": 2,
   "id": "cbe2c58e-f89d-4be7-8097-c970c844715a",
   "metadata": {},
   "outputs": [
    {
     "ename": "NameError",
     "evalue": "name 'python' is not defined",
     "output_type": "error",
     "traceback": [
      "\u001b[0;31m---------------------------------------------------------------------------\u001b[0m",
      "\u001b[0;31mNameError\u001b[0m                                 Traceback (most recent call last)",
      "Cell \u001b[0;32mIn[2], line 1\u001b[0m\n\u001b[0;32m----> 1\u001b[0m \u001b[43mpython\u001b[49m\u001b[38;5;241m.\u001b[39mversion\n",
      "\u001b[0;31mNameError\u001b[0m: name 'python' is not defined"
     ]
    }
   ],
   "source": []
  },
  {
   "cell_type": "code",
   "execution_count": null,
   "id": "56ac371f-6996-4e4f-b6c1-38904e80d226",
   "metadata": {},
   "outputs": [],
   "source": []
  }
 ],
 "metadata": {
  "kernelspec": {
   "display_name": "Python 3 (ipykernel)",
   "language": "python",
   "name": "python3"
  },
  "language_info": {
   "codemirror_mode": {
    "name": "ipython",
    "version": 3
   },
   "file_extension": ".py",
   "mimetype": "text/x-python",
   "name": "python",
   "nbconvert_exporter": "python",
   "pygments_lexer": "ipython3",
   "version": "3.10.8"
  }
 },
 "nbformat": 4,
 "nbformat_minor": 5
}
