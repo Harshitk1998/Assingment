{
 "cells": [
  {
   "cell_type": "code",
   "execution_count": 1,
   "id": "9d9b5ae6-1b2b-4715-9834-98e213e7c0c9",
   "metadata": {},
   "outputs": [],
   "source": [
    "# Answer 1)\n",
    "# while loop always check whether the condition is True or not and it will only work when the condition is True. \n",
    "# for loop do not follow any such condition.\n",
    "#Example:    "
   ]
  },
  {
   "cell_type": "code",
   "execution_count": 4,
   "id": "3212adb3-e416-44e1-ae70-48ef4681fac1",
   "metadata": {},
   "outputs": [
    {
     "name": "stdout",
     "output_type": "stream",
     "text": [
      "1\n",
      "2\n",
      "3\n",
      "4\n"
     ]
    }
   ],
   "source": [
    "# for loop \n",
    "\n",
    "l =[1,2,3,4]\n",
    "for i in l:\n",
    "    print(i)"
   ]
  },
  {
   "cell_type": "code",
   "execution_count": 1,
   "id": "368f0884-f86a-463c-bccf-c0c4153ec104",
   "metadata": {},
   "outputs": [
    {
     "name": "stdout",
     "output_type": "stream",
     "text": [
      "1\n",
      "2\n",
      "3\n",
      "4\n"
     ]
    }
   ],
   "source": [
    "# While loop\n",
    "\n",
    "l = 1\n",
    "while l<5:\n",
    "    print(l)\n",
    "    l+=1"
   ]
  },
  {
   "cell_type": "code",
   "execution_count": 20,
   "id": "7774bd9b-b37a-470a-90dc-62a83dfaff8c",
   "metadata": {},
   "outputs": [
    {
     "data": {
      "text/plain": [
       "55"
      ]
     },
     "execution_count": 20,
     "metadata": {},
     "output_type": "execute_result"
    }
   ],
   "source": [
    "#Answer 2)\n",
    "#sum of first 10 natural number {for loop}\n",
    "l=[1,2,3,4,5,6,7,8,9,10]\n",
    "result=0\n",
    "for i in l:\n",
    "    result = result+i\n",
    "result"
   ]
  },
  {
   "cell_type": "code",
   "execution_count": 1,
   "id": "39c75082-fc83-4d84-a529-cfddc484d86f",
   "metadata": {},
   "outputs": [
    {
     "data": {
      "text/plain": [
       "3628800"
      ]
     },
     "execution_count": 1,
     "metadata": {},
     "output_type": "execute_result"
    }
   ],
   "source": [
    "#product of first 10 natural number {for loop}\n",
    "l=[1,2,3,4,5,6,7,8,9,10]\n",
    "result=1\n",
    "for i in l:\n",
    "    result = result*i\n",
    "result"
   ]
  },
  {
   "cell_type": "code",
   "execution_count": 1,
   "id": "aab960dd-ae8c-4ab5-9f7e-80db8706a8d8",
   "metadata": {},
   "outputs": [
    {
     "data": {
      "text/plain": [
       "55"
      ]
     },
     "execution_count": 1,
     "metadata": {},
     "output_type": "execute_result"
    }
   ],
   "source": [
    "#sum of first 10 natural number {while loop}\n",
    "i=1\n",
    "result = 0\n",
    "while i<=10:\n",
    "    result = result+i\n",
    "    i+=1\n",
    "result"
   ]
  },
  {
   "cell_type": "code",
   "execution_count": 2,
   "id": "9276592f-c1c5-4f1f-967b-8ade426f6511",
   "metadata": {},
   "outputs": [
    {
     "data": {
      "text/plain": [
       "3628800"
      ]
     },
     "execution_count": 2,
     "metadata": {},
     "output_type": "execute_result"
    }
   ],
   "source": [
    "#product of first 10 natural number {while loop}\n",
    "i=1\n",
    "result = 1\n",
    "while i<=10:\n",
    "    result = result*i\n",
    "    i+=1\n",
    "result"
   ]
  },
  {
   "cell_type": "code",
   "execution_count": 22,
   "id": "dfa8fde5-8e1c-4218-9dac-4e4df6d59445",
   "metadata": {},
   "outputs": [
    {
     "name": "stdin",
     "output_type": "stream",
     "text": [
      "units of electricity consumed  310\n"
     ]
    },
    {
     "name": "stdout",
     "output_type": "stream",
     "text": [
      "your final bill is: Rs. 2250.0\n"
     ]
    }
   ],
   "source": [
    "# Answer 3)\n",
    "# computing electricity bill for household\n",
    "unit_consume =int(input(\"units of electricity consumed \"))\n",
    "if unit_consume<=100:\n",
    "    bill = unit_consume*4.5\n",
    "elif unit_consume<=200:\n",
    "    bill = (100*4.5)+((unit_consume - 100)*6)\n",
    "elif unit_consume<=300:\n",
    "    bill = (100*4.5)+(100*6)+((unit_consume-200)*10)\n",
    "else:\n",
    "    bill = (100*4.5)+(100*6)+(100*10)+((unit_consume-300)*20)\n",
    "print(\"your final bill is: Rs.\", bill)  "
   ]
  },
  {
   "cell_type": "code",
   "execution_count": 1,
   "id": "995f6175-259d-4275-8301-2e1a7f377181",
   "metadata": {},
   "outputs": [
    {
     "name": "stdout",
     "output_type": "stream",
     "text": [
      "number of vowel in string: 12\n"
     ]
    }
   ],
   "source": [
    "# Answer 5)\n",
    "# filter vowel\n",
    "string = \"I want to become a data scientist\"\n",
    "vowel = \"aeiouI\"\n",
    "count = 0\n",
    "for char in string :\n",
    "    if char in vowel:\n",
    "        count = count+1\n",
    "print(\"number of vowel in string:\",count)        "
   ]
  },
  {
   "cell_type": "code",
   "execution_count": 59,
   "id": "da01bb76-8bae-4b85-b01d-627e5f6a2dd8",
   "metadata": {},
   "outputs": [
    {
     "name": "stdout",
     "output_type": "stream",
     "text": [
      "List of numbers whose cubes are divisible by 4 or 5: [2, 4, 5, 6, 8, 10, 12, 14, 15, 16, 18, 20, 22, 24, 25, 26, 28, 30, 32, 34, 35, 36, 38, 40, 42, 44, 45, 46, 48, 50, 52, 54, 55, 56, 58, 60, 62, 64, 65, 66, 68, 70, 72, 74, 75, 76, 78, 80, 82, 84, 85, 86, 88, 90, 92, 94, 95, 96, 98, 100]\n",
      "List of  cubes: [1, 8, 27, 64, 125, 216, 343, 512, 729, 1000, 1331, 1728, 2197, 2744, 3375, 4096, 4913, 5832, 6859, 8000, 9261, 10648, 12167, 13824, 15625, 17576, 19683, 21952, 24389, 27000, 29791, 32768, 35937, 39304, 42875, 46656, 50653, 54872, 59319, 64000, 68921, 74088, 79507, 85184, 91125, 97336, 103823, 110592, 117649, 125000, 132651, 140608, 148877, 157464, 166375, 175616, 185193, 195112, 205379, 216000, 226981, 238328, 250047, 262144, 274625, 287496, 300763, 314432, 328509, 343000, 357911, 373248, 389017, 405224, 421875, 438976, 456533, 474552, 493039, 512000, 531441, 551368, 571787, 592704, 614125, 636056, 658503, 681472, 704969, 729000, 753571, 778688, 804357, 830584, 857375, 884736, 912673, 941192, 970299, 1000000]\n"
     ]
    }
   ],
   "source": [
    "# Answer 4) foor loop\n",
    "result=[]\n",
    "number=[]\n",
    "for i in range(1,101):\n",
    "    cube = i**3\n",
    "    if cube%4 ==0 or cube%5==0:\n",
    "        result.append(i)\n",
    "    number.append(cube)\n",
    "\n",
    "print(\"List of numbers whose cubes are divisible by 4 or 5:\",result)\n",
    "print(\"List of  cubes:\",number)"
   ]
  },
  {
   "cell_type": "code",
   "execution_count": 1,
   "id": "d7d9ddd8-ce6e-45a4-a55f-8e961892f0aa",
   "metadata": {},
   "outputs": [
    {
     "name": "stdout",
     "output_type": "stream",
     "text": [
      "List of numbers whose cubes are divisible by 4 or 5: [2, 4, 5, 6, 8, 10, 12, 14, 15, 16, 18, 20, 22, 24, 25, 26, 28, 30, 32, 34, 35, 36, 38, 40, 42, 44, 45, 46, 48, 50, 52, 54, 55, 56, 58, 60, 62, 64, 65, 66, 68, 70, 72, 74, 75, 76, 78, 80, 82, 84, 85, 86, 88, 90, 92, 94, 95, 96, 98, 100]\n",
      "List of  cubes: [1, 8, 27, 64, 125, 216, 343, 512, 729, 1000, 1331, 1728, 2197, 2744, 3375, 4096, 4913, 5832, 6859, 8000, 9261, 10648, 12167, 13824, 15625, 17576, 19683, 21952, 24389, 27000, 29791, 32768, 35937, 39304, 42875, 46656, 50653, 54872, 59319, 64000, 68921, 74088, 79507, 85184, 91125, 97336, 103823, 110592, 117649, 125000, 132651, 140608, 148877, 157464, 166375, 175616, 185193, 195112, 205379, 216000, 226981, 238328, 250047, 262144, 274625, 287496, 300763, 314432, 328509, 343000, 357911, 373248, 389017, 405224, 421875, 438976, 456533, 474552, 493039, 512000, 531441, 551368, 571787, 592704, 614125, 636056, 658503, 681472, 704969, 729000, 753571, 778688, 804357, 830584, 857375, 884736, 912673, 941192, 970299, 1000000]\n"
     ]
    }
   ],
   "source": [
    "# While loop\n",
    "result=[]\n",
    "number=[]\n",
    "i=1\n",
    "while i<=100:\n",
    "    cube = i**3\n",
    "    if cube%4 ==0 or cube%5==0:\n",
    "        result.append(i)\n",
    "    i+=1\n",
    "    number.append(cube)\n",
    "\n",
    "print(\"List of numbers whose cubes are divisible by 4 or 5:\",result)\n",
    "print(\"List of  cubes:\",number)"
   ]
  },
  {
   "cell_type": "code",
   "execution_count": null,
   "id": "8d971b94-8c00-4c37-b044-14149ee6e7ee",
   "metadata": {},
   "outputs": [],
   "source": []
  }
 ],
 "metadata": {
  "kernelspec": {
   "display_name": "Python 3 (ipykernel)",
   "language": "python",
   "name": "python3"
  },
  "language_info": {
   "codemirror_mode": {
    "name": "ipython",
    "version": 3
   },
   "file_extension": ".py",
   "mimetype": "text/x-python",
   "name": "python",
   "nbconvert_exporter": "python",
   "pygments_lexer": "ipython3",
   "version": "3.10.8"
  }
 },
 "nbformat": 4,
 "nbformat_minor": 5
}
