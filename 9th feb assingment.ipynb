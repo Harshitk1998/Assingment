{
 "cells": [
  {
   "cell_type": "code",
   "execution_count": 183,
   "id": "fe0f4b6c-ab4c-4fd1-ac6b-e3d45e55a67c",
   "metadata": {},
   "outputs": [],
   "source": [
    "# ANSWER 1)\n",
    "\n",
    "class vehical:\n",
    "    def __init__(self , name_of_vehical , max_speed , average_of_vehical):\n",
    "        self.name_of_vehical = name_of_vehical\n",
    "        self.max_speed = max_speed\n",
    "        self.averahe_of_vehical = average_of_vehical\n",
    "        return     "
   ]
  },
  {
   "cell_type": "code",
   "execution_count": 184,
   "id": "7f6c302b-083f-432d-8c46-bcf3297e1428",
   "metadata": {},
   "outputs": [],
   "source": [
    "v = vehical(\"Jaguar\",120,60)"
   ]
  },
  {
   "cell_type": "code",
   "execution_count": 185,
   "id": "74a891bd-b078-44db-81fc-85c56c162dec",
   "metadata": {},
   "outputs": [
    {
     "data": {
      "text/plain": [
       "60"
      ]
     },
     "execution_count": 185,
     "metadata": {},
     "output_type": "execute_result"
    }
   ],
   "source": [
    "v.averahe_of_vehical"
   ]
  },
  {
   "cell_type": "code",
   "execution_count": 186,
   "id": "88b2625a-bb44-440f-b1e6-f5d94c0c384d",
   "metadata": {},
   "outputs": [
    {
     "data": {
      "text/plain": [
       "120"
      ]
     },
     "execution_count": 186,
     "metadata": {},
     "output_type": "execute_result"
    }
   ],
   "source": [
    "v.max_speed"
   ]
  },
  {
   "cell_type": "code",
   "execution_count": 187,
   "id": "5048ca5f-b33e-4540-a4f1-034c6b2df517",
   "metadata": {},
   "outputs": [
    {
     "data": {
      "text/plain": [
       "'Jaguar'"
      ]
     },
     "execution_count": 187,
     "metadata": {},
     "output_type": "execute_result"
    }
   ],
   "source": [
    "v.name_of_vehical"
   ]
  },
  {
   "cell_type": "code",
   "execution_count": 188,
   "id": "9e121d70-8557-4cf1-aa07-a204c1653bbf",
   "metadata": {},
   "outputs": [],
   "source": [
    "# ANSWER 2)\n",
    "\n",
    "class car:\n",
    "     def seating_capicity(self ,capicity):\n",
    "        self.capicity=5\n",
    "       \n",
    "        return   "
   ]
  },
  {
   "cell_type": "code",
   "execution_count": 189,
   "id": "4a1d5106-8179-4a6c-a366-656e5d38fb2f",
   "metadata": {},
   "outputs": [],
   "source": [
    "class car1(vehical,car):\n",
    "    pass"
   ]
  },
  {
   "cell_type": "code",
   "execution_count": 190,
   "id": "2f1f070e-3f82-4a40-aa82-33d2fb6e5a74",
   "metadata": {},
   "outputs": [],
   "source": [
    "c = car1(\"Jaguar\",120,25)"
   ]
  },
  {
   "cell_type": "code",
   "execution_count": 198,
   "id": "590c6b60-365e-45a0-a392-b9c60eaf4d77",
   "metadata": {},
   "outputs": [
    {
     "data": {
      "text/plain": [
       "5"
      ]
     },
     "execution_count": 198,
     "metadata": {},
     "output_type": "execute_result"
    }
   ],
   "source": [
    "c.capicity"
   ]
  },
  {
   "cell_type": "code",
   "execution_count": 193,
   "id": "ee5e4679-c726-447f-bfd3-a36b84d2e6c3",
   "metadata": {},
   "outputs": [
    {
     "data": {
      "text/plain": [
       "'Jaguar'"
      ]
     },
     "execution_count": 193,
     "metadata": {},
     "output_type": "execute_result"
    }
   ],
   "source": [
    "c.name_of_vehical"
   ]
  },
  {
   "cell_type": "code",
   "execution_count": 194,
   "id": "0af09ad3-9f66-49b4-9be8-2bfbc8b7b6d5",
   "metadata": {},
   "outputs": [
    {
     "data": {
      "text/plain": [
       "'hii'"
      ]
     },
     "execution_count": 194,
     "metadata": {},
     "output_type": "execute_result"
    }
   ],
   "source": [
    "# ANSWER 3)\n",
    "\n",
    "# Multiple inheritance is a feature in object-oriented programming that allows a class to inherit from multiple parent classes.\n",
    "# In other words,a child class can inherit attributes and methods from more than one parent class.\n",
    "\n",
    "class class1:\n",
    "    def test_class1(self):\n",
    "        return \"hii\"\n",
    "    \n",
    "class class2:\n",
    "    def test_class2(self):\n",
    "        return\"hello\"\n",
    "    \n",
    "class class3(class1 , class2):\n",
    "    pass    \n",
    "\n",
    "\n",
    "obj_class3 = class3()\n",
    "\n",
    "obj_class3.test_class1()"
   ]
  },
  {
   "cell_type": "code",
   "execution_count": 195,
   "id": "1754c834-1e34-4a32-8c63-c5a394738e83",
   "metadata": {},
   "outputs": [
    {
     "data": {
      "text/plain": [
       "'hello'"
      ]
     },
     "execution_count": 195,
     "metadata": {},
     "output_type": "execute_result"
    }
   ],
   "source": [
    "obj_class3.test_class2()"
   ]
  },
  {
   "cell_type": "code",
   "execution_count": 47,
   "id": "5a5f408d-7433-4c4e-a5fc-dd7f07b63706",
   "metadata": {},
   "outputs": [],
   "source": [
    "# ANSWER 4) \n",
    "\n",
    "# In Python, getter and setter are methods that are used to access and modify the attributes of an object. \n",
    "# These methods are often used in object-oriented programming to provide controlled access to an object's attributes.\n",
    "\n",
    "# Getter methods are used to retrieve the value of an object's attribute, \n",
    "# while setter methods are used to modify the value of an object's attribute.\n",
    "\n",
    "class school:\n",
    "    \n",
    "    def __init__(self , student_name , student_roll_number):\n",
    "        self.student_name = student_name\n",
    "        self.__student_roll_number = student_roll_number\n",
    "        \n",
    "    @property\n",
    "    def student_roll_number_getter(self):\n",
    "        return self.__student_roll_number\n",
    "    \n",
    "    @student_roll_number_getter.setter\n",
    "    def student_roll_number_set(self,student_roll_number):\n",
    "        if student_roll_number <= 10:\n",
    "                pass\n",
    "        else:\n",
    "            self.__student_roll_number = student_roll_number\n"
   ]
  },
  {
   "cell_type": "code",
   "execution_count": 48,
   "id": "cb0f68f4-ff78-444c-80d3-f1b4b582f8f2",
   "metadata": {},
   "outputs": [],
   "source": [
    "scl = school(\"Harshit\", 10)"
   ]
  },
  {
   "cell_type": "code",
   "execution_count": 49,
   "id": "1cdf4aa0-78ae-4f4e-b196-b60a45c27f46",
   "metadata": {},
   "outputs": [
    {
     "data": {
      "text/plain": [
       "10"
      ]
     },
     "execution_count": 49,
     "metadata": {},
     "output_type": "execute_result"
    }
   ],
   "source": [
    "scl.student_roll_number_getter"
   ]
  },
  {
   "cell_type": "code",
   "execution_count": 50,
   "id": "87412736-8bf0-4502-b749-05be21a1861d",
   "metadata": {},
   "outputs": [],
   "source": [
    "scl.student_roll_number = 15"
   ]
  },
  {
   "cell_type": "code",
   "execution_count": 51,
   "id": "dfb0e9ab-9457-4e89-9331-a0795845abbb",
   "metadata": {},
   "outputs": [
    {
     "data": {
      "text/plain": [
       "15"
      ]
     },
     "execution_count": 51,
     "metadata": {},
     "output_type": "execute_result"
    }
   ],
   "source": [
    "scl.student_roll_number"
   ]
  },
  {
   "cell_type": "code",
   "execution_count": 52,
   "id": "66df2f7a-328f-45a7-9f71-6be48ec3926a",
   "metadata": {},
   "outputs": [],
   "source": [
    "# ANSWER 5)\n",
    "\n",
    "# Method overriding is a feature of object-oriented programming in Python where a subclass provides \n",
    "# its own implementation of a method that is already defined in its parent class.\n",
    "\n",
    "# When a method in a subclass has the same name, parameters, and return type as a method in its parent class,\n",
    "# it is said to be overriding the parent class method. \n",
    "# The overridden method in the parent class is said to be masked by the subclass's implementation.\n",
    "\n",
    "\n",
    "class Animal:\n",
    "    def make_sound(self):\n",
    "        print(\"The animal makes a sound\")\n",
    "\n",
    "class Dog(Animal):\n",
    "    def make_sound(self):\n",
    "        print(\"The dog barks\")\n",
    "\n",
    "class Cat(Animal):\n",
    "    def make_sound(self):\n",
    "        print(\"The cat meows\")\n",
    "        \n",
    "        "
   ]
  },
  {
   "cell_type": "code",
   "execution_count": 55,
   "id": "e49ae4d8-48eb-4142-a34d-14e25694ddd5",
   "metadata": {},
   "outputs": [],
   "source": [
    "a = Animal()"
   ]
  },
  {
   "cell_type": "code",
   "execution_count": 57,
   "id": "12d10bf8-1787-4f3e-8b68-5fa29b50d5c6",
   "metadata": {},
   "outputs": [
    {
     "name": "stdout",
     "output_type": "stream",
     "text": [
      "The animal makes a sound\n"
     ]
    }
   ],
   "source": [
    "a.make_sound()"
   ]
  },
  {
   "cell_type": "code",
   "execution_count": 59,
   "id": "d590b6ee-666b-4400-a5f5-4240041dc74a",
   "metadata": {},
   "outputs": [],
   "source": [
    "d =Dog()"
   ]
  },
  {
   "cell_type": "code",
   "execution_count": 60,
   "id": "2273db02-ffb3-4221-b9f7-94eacc387959",
   "metadata": {},
   "outputs": [
    {
     "name": "stdout",
     "output_type": "stream",
     "text": [
      "The dog barks\n"
     ]
    }
   ],
   "source": [
    "d.make_sound()"
   ]
  },
  {
   "cell_type": "code",
   "execution_count": 61,
   "id": "74a490d3-f1f8-4122-8193-a8d60ceccfe1",
   "metadata": {},
   "outputs": [],
   "source": [
    "c = Cat()"
   ]
  },
  {
   "cell_type": "code",
   "execution_count": 62,
   "id": "435e6ee3-1f35-4696-920b-fc440248b8f1",
   "metadata": {},
   "outputs": [
    {
     "name": "stdout",
     "output_type": "stream",
     "text": [
      "The cat meows\n"
     ]
    }
   ],
   "source": [
    "c.make_sound()"
   ]
  },
  {
   "cell_type": "code",
   "execution_count": null,
   "id": "feae3b8a-83b1-41fc-8c4a-4353e1194989",
   "metadata": {},
   "outputs": [],
   "source": []
  }
 ],
 "metadata": {
  "kernelspec": {
   "display_name": "Python 3 (ipykernel)",
   "language": "python",
   "name": "python3"
  },
  "language_info": {
   "codemirror_mode": {
    "name": "ipython",
    "version": 3
   },
   "file_extension": ".py",
   "mimetype": "text/x-python",
   "name": "python",
   "nbconvert_exporter": "python",
   "pygments_lexer": "ipython3",
   "version": "3.10.8"
  }
 },
 "nbformat": 4,
 "nbformat_minor": 5
}
